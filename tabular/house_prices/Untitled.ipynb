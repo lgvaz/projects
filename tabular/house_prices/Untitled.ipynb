{
 "cells": [
  {
   "cell_type": "code",
   "execution_count": 1,
   "metadata": {},
   "outputs": [],
   "source": [
    "%load_ext autoreload\n",
    "%autoreload 2"
   ]
  },
  {
   "cell_type": "code",
   "execution_count": 2,
   "metadata": {},
   "outputs": [],
   "source": [
    "from fastai import *\n",
    "from fastai.tabular import *"
   ]
  },
  {
   "cell_type": "code",
   "execution_count": 3,
   "metadata": {},
   "outputs": [
    {
     "data": {
      "text/plain": [
       "[PosixPath('/home/lgvaz/projects/tabular/house_prices/data/data_description.txt'),\n",
       " PosixPath('/home/lgvaz/projects/tabular/house_prices/data/train.csv'),\n",
       " PosixPath('/home/lgvaz/projects/tabular/house_prices/data/models'),\n",
       " PosixPath('/home/lgvaz/projects/tabular/house_prices/data/sample_submission.csv'),\n",
       " PosixPath('/home/lgvaz/projects/tabular/house_prices/data/house-prices-advanced-regression-techniques.zip'),\n",
       " PosixPath('/home/lgvaz/projects/tabular/house_prices/data/sub.csv'),\n",
       " PosixPath('/home/lgvaz/projects/tabular/house_prices/data/test.csv')]"
      ]
     },
     "execution_count": 3,
     "metadata": {},
     "output_type": "execute_result"
    }
   ],
   "source": [
    "path = Path('data').absolute()\n",
    "path.ls()"
   ]
  },
  {
   "cell_type": "code",
   "execution_count": 4,
   "metadata": {},
   "outputs": [],
   "source": [
    "df = pd.read_csv(path/'train.csv')\n",
    "df_test = pd.read_csv(path/'test.csv')\n",
    "df_sample = pd.read_csv(path/'sample_submission.csv')"
   ]
  },
  {
   "cell_type": "code",
   "execution_count": 5,
   "metadata": {},
   "outputs": [],
   "source": [
    "dep_var = 'SalePrice'\n",
    "cont_names = ['MSSubClass', 'LotFrontage', 'LotArea', 'OverallQual', 'YearBuilt', 'YearRemodAdd', 'MasVnrArea', 'BsmtFinSF1', 'BsmtFinSF2', 'BsmtUnfSF', 'TotalBsmtSF', '1stFlrSF', '2ndFlrSF', 'BedroomAbvGr', 'KitchenAbvGr', 'TotRmsAbvGrd', 'Fireplaces', 'GarageYrBlt', 'GarageArea', 'WoodDeckSF', 'OpenPorchSF', 'EnclosedPorch', '3SsnPorch', 'ScreenPorch', 'PoolArea', 'MiscVal', 'YrSold']\n",
    "cat_names = list(set(df.columns) - set(cont_names + [dep_var, 'Id']))\n",
    "procs = [FillMissing, Categorify, Normalize]"
   ]
  },
  {
   "cell_type": "code",
   "execution_count": 20,
   "metadata": {},
   "outputs": [],
   "source": [
    "dep_var = 'SalePrice'\n",
    "cat_names = ['MSSubClass', 'MSZoning', 'Street', 'Alley', 'LotShape', 'LandContour', 'Utilities', 'LotConfig', 'LandSlope',\n",
    "           'Neighborhood', 'Condition1', 'Condition2', 'BldgType', 'HouseStyle', 'OverallQual', 'OverallCond', 'YearBuilt',\n",
    "           'YearRemodAdd', 'RoofStyle', 'RoofMatl', 'Exterior1st', 'Exterior2nd', 'MasVnrType', 'ExterQual', 'ExterCond', \n",
    "           'Foundation', 'BsmtCond', 'BsmtExposure', 'BsmtFinType1', 'BsmtFinType2', 'Heating', 'HeatingQC', 'CentralAir',\n",
    "           'Electrical', 'Functional', 'FireplaceQu', 'GarageType', 'GarageFinish', 'GarageQual', 'GarageCond', 'PavedDrive',\n",
    "           'PoolQC', 'Fence', 'MiscFeature', 'MiscVal', 'MoSold', 'YrSold', 'SaleType', 'SaleCondition', 'BsmtQual', 'KitchenQual']\n",
    "cont_names = ['1stFlrSF', '2ndFlrSF', '3SsnPorch', 'BedroomAbvGr',\n",
    " 'EnclosedPorch', 'Fireplaces', 'FullBath',\n",
    " 'GarageYrBlt', 'GrLivArea',\n",
    " 'HalfBath', 'KitchenAbvGr', \n",
    " 'LotArea', 'LotFrontage', 'LowQualFinSF', 'MasVnrArea',\n",
    " 'OpenPorchSF', 'PoolArea', 'ScreenPorch',\n",
    " 'TotRmsAbvGrd', 'WoodDeckSF']\n",
    "procs = [FillMissing, Categorify, Normalize]"
   ]
  },
  {
   "cell_type": "code",
   "execution_count": 6,
   "metadata": {},
   "outputs": [],
   "source": [
    "for name in cont_names:\n",
    "    df_test[name].fillna(value=df[name].mean(), inplace=True)"
   ]
  },
  {
   "cell_type": "code",
   "execution_count": 7,
   "metadata": {},
   "outputs": [],
   "source": [
    "test = TabularList.from_df(df=df_test, path=path, cat_names=cat_names, cont_names=cont_names, procs=procs)\n",
    "data = (TabularList.from_df(df=df, path=path, cat_names=cat_names, cont_names=cont_names, procs=procs)\n",
    "#         .split_by_idx(list(range(1200, 1460)))\n",
    "        .split_by_rand_pct(0.1, seed=42)\n",
    "        .label_from_df(cols=dep_var, label_cls=FloatList, log=True)\n",
    "        .add_test(test)\n",
    "        .databunch())"
   ]
  },
  {
   "cell_type": "code",
   "execution_count": 8,
   "metadata": {},
   "outputs": [],
   "source": [
    "max_log_y = np.log(np.max(df[dep_var]) * 1.2)\n",
    "y_range = [0, max_log_y]"
   ]
  },
  {
   "cell_type": "code",
   "execution_count": 76,
   "metadata": {},
   "outputs": [],
   "source": [
    "learn = tabular_learner(data, layers=[500, 300], metrics=[root_mean_squared_error], y_range=y_range, ps=0.2, wd=1e-1)"
   ]
  },
  {
   "cell_type": "code",
   "execution_count": 10,
   "metadata": {
    "scrolled": true
   },
   "outputs": [
    {
     "data": {
      "text/html": [],
      "text/plain": [
       "<IPython.core.display.HTML object>"
      ]
     },
     "metadata": {},
     "output_type": "display_data"
    },
    {
     "name": "stdout",
     "output_type": "stream",
     "text": [
      "LR Finder is complete, type {learner_name}.recorder.plot() to see the graph.\n"
     ]
    },
    {
     "data": {
      "image/png": "[encoded data removed]",
      "text/plain": [
       "<Figure size 432x288 with 1 Axes>"
      ]
     },
     "metadata": {
      "needs_background": "light"
     },
     "output_type": "display_data"
    }
   ],
   "source": [
    "learn.lr_find()\n",
    "learn.recorder.plot()"
   ]
  },
  {
   "cell_type": "code",
   "execution_count": 96,
   "metadata": {},
   "outputs": [
    {
     "data": {
      "text/html": [
       "<table border=\"1\" class=\"dataframe\">\n",
       "  <thead>\n",
       "    <tr style=\"text-align: left;\">\n",
       "      <th>epoch</th>\n",
       "      <th>train_loss</th>\n",
       "      <th>valid_loss</th>\n",
       "      <th>root_mean_squared_error</th>\n",
       "      <th>time</th>\n",
       "    </tr>\n",
       "  </thead>\n",
       "  <tbody>\n",
       "    <tr>\n",
       "      <td>0</td>\n",
       "      <td>0.012257</td>\n",
       "      <td>0.018775</td>\n",
       "      <td>0.132462</td>\n",
       "      <td>00:01</td>\n",
       "    </tr>\n",
       "    <tr>\n",
       "      <td>1</td>\n",
       "      <td>0.012374</td>\n",
       "      <td>0.018218</td>\n",
       "      <td>0.130681</td>\n",
       "      <td>00:01</td>\n",
       "    </tr>\n",
       "    <tr>\n",
       "      <td>2</td>\n",
       "      <td>0.011867</td>\n",
       "      <td>0.018950</td>\n",
       "      <td>0.133152</td>\n",
       "      <td>00:01</td>\n",
       "    </tr>\n",
       "    <tr>\n",
       "      <td>3</td>\n",
       "      <td>0.012725</td>\n",
       "      <td>0.018445</td>\n",
       "      <td>0.131504</td>\n",
       "      <td>00:01</td>\n",
       "    </tr>\n",
       "    <tr>\n",
       "      <td>4</td>\n",
       "      <td>0.013225</td>\n",
       "      <td>0.018284</td>\n",
       "      <td>0.130878</td>\n",
       "      <td>00:01</td>\n",
       "    </tr>\n",
       "    <tr>\n",
       "      <td>5</td>\n",
       "      <td>0.013318</td>\n",
       "      <td>0.018320</td>\n",
       "      <td>0.130925</td>\n",
       "      <td>00:01</td>\n",
       "    </tr>\n",
       "    <tr>\n",
       "      <td>6</td>\n",
       "      <td>0.012562</td>\n",
       "      <td>0.018429</td>\n",
       "      <td>0.131373</td>\n",
       "      <td>00:01</td>\n",
       "    </tr>\n",
       "    <tr>\n",
       "      <td>7</td>\n",
       "      <td>0.012077</td>\n",
       "      <td>0.018043</td>\n",
       "      <td>0.130356</td>\n",
       "      <td>00:01</td>\n",
       "    </tr>\n",
       "    <tr>\n",
       "      <td>8</td>\n",
       "      <td>0.011809</td>\n",
       "      <td>0.018133</td>\n",
       "      <td>0.130682</td>\n",
       "      <td>00:01</td>\n",
       "    </tr>\n",
       "    <tr>\n",
       "      <td>9</td>\n",
       "      <td>0.011336</td>\n",
       "      <td>0.018219</td>\n",
       "      <td>0.130842</td>\n",
       "      <td>00:01</td>\n",
       "    </tr>\n",
       "    <tr>\n",
       "      <td>10</td>\n",
       "      <td>0.012352</td>\n",
       "      <td>0.018554</td>\n",
       "      <td>0.131980</td>\n",
       "      <td>00:01</td>\n",
       "    </tr>\n",
       "    <tr>\n",
       "      <td>11</td>\n",
       "      <td>0.012217</td>\n",
       "      <td>0.018689</td>\n",
       "      <td>0.132415</td>\n",
       "      <td>00:01</td>\n",
       "    </tr>\n",
       "    <tr>\n",
       "      <td>12</td>\n",
       "      <td>0.012524</td>\n",
       "      <td>0.018081</td>\n",
       "      <td>0.130284</td>\n",
       "      <td>00:01</td>\n",
       "    </tr>\n",
       "    <tr>\n",
       "      <td>13</td>\n",
       "      <td>0.012648</td>\n",
       "      <td>0.018082</td>\n",
       "      <td>0.130763</td>\n",
       "      <td>00:01</td>\n",
       "    </tr>\n",
       "    <tr>\n",
       "      <td>14</td>\n",
       "      <td>0.012202</td>\n",
       "      <td>0.018336</td>\n",
       "      <td>0.131321</td>\n",
       "      <td>00:01</td>\n",
       "    </tr>\n",
       "  </tbody>\n",
       "</table>"
      ],
      "text/plain": [
       "<IPython.core.display.HTML object>"
      ]
     },
     "metadata": {},
     "output_type": "display_data"
    }
   ],
   "source": [
    "learn.fit_one_cycle(15, 1e-6)"
   ]
  },
  {
   "cell_type": "code",
   "execution_count": 97,
   "metadata": {},
   "outputs": [
    {
     "data": {
      "image/png": "[encoded data removed]",
      "text/plain": [
       "<Figure size 432x288 with 1 Axes>"
      ]
     },
     "metadata": {
      "needs_background": "light"
     },
     "output_type": "display_data"
    }
   ],
   "source": [
    "learn.recorder.plot_losses()"
   ]
  },
  {
   "cell_type": "code",
   "execution_count": 93,
   "metadata": {},
   "outputs": [],
   "source": [
    "learn.save('500-300-013')"
   ]
  },
  {
   "cell_type": "code",
   "execution_count": 77,
   "metadata": {
    "collapsed": true
   },
   "outputs": [
    {
     "data": {
      "text/plain": [
       "Learner(data=TabularDataBunch;\n",
       "\n",
       "Train: LabelList (1314 items)\n",
       "x: TabularList\n",
       "HouseStyle 2Story; Foundation PConc; BldgType 1Fam; BsmtFinType2 Unf; ExterCond TA; Alley #na#; OverallCond 5; MSZoning RL; PavedDrive Y; Exterior2nd VinylSd; Exterior1st VinylSd; Heating GasA; FullBath 2; LandSlope Gtl; BsmtCond TA; GarageQual TA; MasVnrType BrkFace; Functional Typ; KitchenQual Gd; FireplaceQu #na#; CentralAir Y; GarageFinish RFn; ExterQual Gd; SaleType WD; LowQualFinSF 0; Fence #na#; BsmtQual Gd; Condition1 Norm; PoolQC #na#; GarageType Attchd; BsmtHalfBath 0; BsmtFullBath 1; Utilities AllPub; GarageCond TA; RoofStyle Gable; Street Pave; SaleCondition Normal; GarageCars 2; MiscFeature #na#; MoSold 2; GrLivArea 1710; HeatingQC Ex; LandContour Lvl; Electrical SBrkr; LotShape Reg; BsmtExposure No; RoofMatl CompShg; Neighborhood CollgCr; BsmtFinType1 GLQ; HalfBath 1; Condition2 Norm; LotConfig Inside; LotFrontage_na False; MasVnrArea_na False; GarageYrBlt_na False; MSSubClass 0.0604; LotFrontage -0.2105; LotArea -0.2081; OverallQual 0.6498; YearBuilt 1.0502; YearRemodAdd 0.8784; MasVnrArea 0.5252; BsmtFinSF1 0.5713; BsmtFinSF2 -0.2792; BsmtUnfSF -0.9407; TotalBsmtSF -0.4607; 1stFlrSF -0.8006; 2ndFlrSF 1.1532; BedroomAbvGr 0.1509; KitchenAbvGr -0.2158; TotRmsAbvGrd 0.9048; Fireplaces -0.9571; GarageYrBlt 1.0138; GarageArea 0.3597; WoodDeckSF -0.7483; OpenPorchSF 0.1943; EnclosedPorch -0.3578; 3SsnPorch -0.1221; ScreenPorch -0.2710; PoolArea -0.0724; MiscVal -0.0894; YrSold 0.1352; ,HouseStyle 1Story; Foundation CBlock; BldgType 1Fam; BsmtFinType2 Unf; ExterCond TA; Alley #na#; OverallCond 8; MSZoning RL; PavedDrive Y; Exterior2nd MetalSd; Exterior1st MetalSd; Heating GasA; FullBath 2; LandSlope Gtl; BsmtCond TA; GarageQual TA; MasVnrType None; Functional Typ; KitchenQual TA; FireplaceQu TA; CentralAir Y; GarageFinish RFn; ExterQual TA; SaleType WD; LowQualFinSF 0; Fence #na#; BsmtQual Gd; Condition1 Feedr; PoolQC #na#; GarageType Attchd; BsmtHalfBath 1; BsmtFullBath 0; Utilities AllPub; GarageCond TA; RoofStyle Gable; Street Pave; SaleCondition Normal; GarageCars 2; MiscFeature #na#; MoSold 5; GrLivArea 1262; HeatingQC Ex; LandContour Lvl; Electrical SBrkr; LotShape Reg; BsmtExposure Gd; RoofMatl CompShg; Neighborhood Veenker; BsmtFinType1 ALQ; HalfBath 0; Condition2 Norm; LotConfig FR2; LotFrontage_na False; MasVnrArea_na False; GarageYrBlt_na False; MSSubClass -0.8805; LotFrontage 0.4684; LotArea -0.0977; OverallQual -0.0781; YearBuilt 0.1639; YearRemodAdd -0.4261; MasVnrArea -0.5837; BsmtFinSF1 1.1686; BsmtFinSF2 -0.2792; BsmtUnfSF -0.6388; TotalBsmtSF 0.4716; 1stFlrSF 0.2558; 2ndFlrSF -0.8039; BedroomAbvGr 0.1509; KitchenAbvGr -0.2158; TotRmsAbvGrd -0.3369; Fireplaces 0.5955; GarageYrBlt -0.1104; GarageArea -0.0590; WoodDeckSF 1.6021; OpenPorchSF -0.7094; EnclosedPorch -0.3578; 3SsnPorch -0.1221; ScreenPorch -0.2710; PoolArea -0.0724; MiscVal -0.0894; YrSold -0.6142; ,HouseStyle 2Story; Foundation PConc; BldgType 1Fam; BsmtFinType2 Unf; ExterCond TA; Alley #na#; OverallCond 5; MSZoning RL; PavedDrive Y; Exterior2nd VinylSd; Exterior1st VinylSd; Heating GasA; FullBath 2; LandSlope Gtl; BsmtCond TA; GarageQual TA; MasVnrType BrkFace; Functional Typ; KitchenQual Gd; FireplaceQu TA; CentralAir Y; GarageFinish RFn; ExterQual Gd; SaleType WD; LowQualFinSF 0; Fence #na#; BsmtQual Gd; Condition1 Norm; PoolQC #na#; GarageType Attchd; BsmtHalfBath 0; BsmtFullBath 1; Utilities AllPub; GarageCond TA; RoofStyle Gable; Street Pave; SaleCondition Normal; GarageCars 2; MiscFeature #na#; MoSold 9; GrLivArea 1786; HeatingQC Ex; LandContour Lvl; Electrical SBrkr; LotShape IR1; BsmtExposure Mn; RoofMatl CompShg; Neighborhood CollgCr; BsmtFinType1 GLQ; HalfBath 1; Condition2 Norm; LotConfig Inside; LotFrontage_na False; MasVnrArea_na False; GarageYrBlt_na False; MSSubClass 0.0604; LotFrontage -0.0747; LotArea 0.0605; OverallQual 0.6498; YearBuilt 0.9846; YearRemodAdd 0.8301; MasVnrArea 0.3329; BsmtFinSF1 0.0881; BsmtFinSF2 -0.2792; BsmtUnfSF -0.3007; TotalBsmtSF -0.3138; 1stFlrSF -0.6341; 2ndFlrSF 1.1807; BedroomAbvGr 0.1509; KitchenAbvGr -0.2158; TotRmsAbvGrd -0.3369; Fireplaces 0.5955; GarageYrBlt 0.9305; GarageArea 0.6452; WoodDeckSF -0.7483; OpenPorchSF -0.0872; EnclosedPorch -0.3578; 3SsnPorch -0.1221; ScreenPorch -0.2710; PoolArea -0.0724; MiscVal -0.0894; YrSold 0.1352; ,HouseStyle 2Story; Foundation BrkTil; BldgType 1Fam; BsmtFinType2 Unf; ExterCond TA; Alley #na#; OverallCond 5; MSZoning RL; PavedDrive Y; Exterior2nd Wd Shng; Exterior1st Wd Sdng; Heating GasA; FullBath 1; LandSlope Gtl; BsmtCond Gd; GarageQual TA; MasVnrType None; Functional Typ; KitchenQual Gd; FireplaceQu Gd; CentralAir Y; GarageFinish Unf; ExterQual TA; SaleType WD; LowQualFinSF 0; Fence #na#; BsmtQual TA; Condition1 Norm; PoolQC #na#; GarageType Detchd; BsmtHalfBath 0; BsmtFullBath 1; Utilities AllPub; GarageCond TA; RoofStyle Gable; Street Pave; SaleCondition Abnorml; GarageCars 3; MiscFeature #na#; MoSold 2; GrLivArea 1717; HeatingQC Gd; LandContour Lvl; Electrical SBrkr; LotShape IR1; BsmtExposure No; RoofMatl CompShg; Neighborhood Crawfor; BsmtFinType1 ALQ; HalfBath 0; Condition2 Norm; LotConfig Corner; LotFrontage_na False; MasVnrArea_na False; GarageYrBlt_na False; MSSubClass 0.2957; LotFrontage -0.4368; LotArea -0.1025; OverallQual 0.6498; YearBuilt -1.8386; YearRemodAdd -0.7161; MasVnrArea -0.5837; BsmtFinSF1 -0.5048; BsmtFinSF2 -0.2792; BsmtUnfSF -0.0618; TotalBsmtSF -0.6904; 1stFlrSF -0.5274; 2ndFlrSF 0.9286; BedroomAbvGr 0.1509; KitchenAbvGr -0.2158; TotRmsAbvGrd 0.2840; Fireplaces 0.5955; GarageYrBlt 0.8056; GarageArea 0.8070; WoodDeckSF -0.7483; OpenPorchSF -0.1909; EnclosedPorch 4.0389; 3SsnPorch -0.1221; ScreenPorch -0.2710; PoolArea -0.0724; MiscVal -0.0894; YrSold -1.3635; ,HouseStyle 2Story; Foundation PConc; BldgType 1Fam; BsmtFinType2 Unf; ExterCond TA; Alley #na#; OverallCond 5; MSZoning RL; PavedDrive Y; Exterior2nd VinylSd; Exterior1st VinylSd; Heating GasA; FullBath 2; LandSlope Gtl; BsmtCond TA; GarageQual TA; MasVnrType BrkFace; Functional Typ; KitchenQual Gd; FireplaceQu TA; CentralAir Y; GarageFinish RFn; ExterQual Gd; SaleType WD; LowQualFinSF 0; Fence #na#; BsmtQual Gd; Condition1 Norm; PoolQC #na#; GarageType Attchd; BsmtHalfBath 0; BsmtFullBath 1; Utilities AllPub; GarageCond TA; RoofStyle Gable; Street Pave; SaleCondition Normal; GarageCars 3; MiscFeature #na#; MoSold 12; GrLivArea 2198; HeatingQC Ex; LandContour Lvl; Electrical SBrkr; LotShape IR1; BsmtExposure Av; RoofMatl CompShg; Neighborhood NoRidge; BsmtFinType1 GLQ; HalfBath 1; Condition2 Norm; LotConfig FR2; LotFrontage_na False; MasVnrArea_na False; GarageYrBlt_na False; MSSubClass 0.0604; LotFrontage 0.6494; LotArea 0.3493; OverallQual 1.3778; YearBuilt 0.9517; YearRemodAdd 0.7335; MasVnrArea 1.3965; BsmtFinSF1 0.4593; BsmtFinSF2 -0.2792; BsmtUnfSF -0.1745; TotalBsmtSF 0.2029; 1stFlrSF -0.0486; 2ndFlrSF 1.6093; BedroomAbvGr 1.3828; KitchenAbvGr -0.2158; TotRmsAbvGrd 1.5257; Fireplaces 0.5955; GarageYrBlt 0.8889; GarageArea 1.7301; WoodDeckSF 0.7661; OpenPorchSF 0.5350; EnclosedPorch -0.3578; 3SsnPorch -0.1221; ScreenPorch -0.2710; PoolArea -0.0724; MiscVal -0.0894; YrSold 0.1352; \n",
       "y: FloatList\n",
       "12.247694,12.109011,12.317166,11.849398,12.429216\n",
       "Path: /home/lgvaz/projects/tabular/house_prices/data;\n",
       "\n",
       "Valid: LabelList (146 items)\n",
       "x: TabularList\n",
       "HouseStyle 1Story; Foundation CBlock; BldgType 1Fam; BsmtFinType2 Unf; ExterCond TA; Alley #na#; OverallCond 8; MSZoning RL; PavedDrive Y; Exterior2nd HdBoard; Exterior1st HdBoard; Heating GasA; FullBath 1; LandSlope Gtl; BsmtCond TA; GarageQual TA; MasVnrType None; Functional Typ; KitchenQual TA; FireplaceQu #na#; CentralAir Y; GarageFinish RFn; ExterQual TA; SaleType WD; LowQualFinSF 0; Fence MnPrv; BsmtQual TA; Condition1 Norm; PoolQC #na#; GarageType Attchd; BsmtHalfBath 1; BsmtFullBath 0; Utilities AllPub; GarageCond TA; RoofStyle Hip; Street Pave; SaleCondition Normal; GarageCars 1; MiscFeature #na#; MoSold 2; GrLivArea #na#; HeatingQC TA; LandContour Lvl; Electrical SBrkr; LotShape Reg; BsmtExposure No; RoofMatl CompShg; Neighborhood Sawyer; BsmtFinType1 GLQ; HalfBath 0; Condition2 Norm; LotConfig Inside; LotFrontage_na False; MasVnrArea_na False; GarageYrBlt_na False; MSSubClass -0.8805; LotFrontage 0.0158; LotArea -0.2115; OverallQual -0.0781; YearBuilt -0.2629; YearRemodAdd 0.8784; MasVnrArea -0.5837; BsmtFinSF1 0.4768; BsmtFinSF2 -0.2792; BsmtUnfSF -0.3863; TotalBsmtSF 0.0054; 1stFlrSF -0.2490; 2ndFlrSF -0.8039; BedroomAbvGr 0.1509; KitchenAbvGr -0.2158; TotRmsAbvGrd -0.3369; Fireplaces -0.9571; GarageYrBlt -0.6517; GarageArea -0.9916; WoodDeckSF 0.7661; OpenPorchSF -0.7094; EnclosedPorch -0.3578; 3SsnPorch -0.1221; ScreenPorch -0.2710; PoolArea -0.0724; MiscVal -0.0894; YrSold -1.3635; ,HouseStyle 2Story; Foundation PConc; BldgType 1Fam; BsmtFinType2 Unf; ExterCond TA; Alley #na#; OverallCond 5; MSZoning RL; PavedDrive Y; Exterior2nd HdBoard; Exterior1st HdBoard; Heating GasA; FullBath 2; LandSlope Gtl; BsmtCond TA; GarageQual TA; MasVnrType BrkFace; Functional Typ; KitchenQual Gd; FireplaceQu TA; CentralAir Y; GarageFinish RFn; ExterQual Gd; SaleType WD; LowQualFinSF 0; Fence #na#; BsmtQual Ex; Condition1 Norm; PoolQC #na#; GarageType Attchd; BsmtHalfBath 0; BsmtFullBath 1; Utilities AllPub; GarageCond TA; RoofStyle Gable; Street Pave; SaleCondition Normal; GarageCars 2; MiscFeature #na#; MoSold 4; GrLivArea #na#; HeatingQC Ex; LandContour Lvl; Electrical SBrkr; LotShape IR1; BsmtExposure Av; RoofMatl CompShg; Neighborhood NoRidge; BsmtFinType1 GLQ; HalfBath 1; Condition2 Norm; LotConfig Corner; LotFrontage_na False; MasVnrArea_na False; GarageYrBlt_na False; MSSubClass 0.0604; LotFrontage 1.2830; LotArea 0.1571; OverallQual 1.3778; YearBuilt 0.7548; YearRemodAdd 0.4919; MasVnrArea 1.4644; BsmtFinSF1 1.2872; BsmtFinSF2 -0.2792; BsmtUnfSF -0.3075; TotalBsmtSF 0.9331; 1stFlrSF 0.8750; 2ndFlrSF 1.7674; BedroomAbvGr 0.1509; KitchenAbvGr -0.2158; TotRmsAbvGrd 1.5257; Fireplaces 2.1481; GarageYrBlt 0.6390; GarageArea 1.1401; WoodDeckSF 0.7187; OpenPorchSF -0.2353; EnclosedPorch -0.3578; 3SsnPorch -0.1221; ScreenPorch -0.2710; PoolArea -0.0724; MiscVal -0.0894; YrSold 1.6339; ,HouseStyle 1Story; Foundation CBlock; BldgType 1Fam; BsmtFinType2 Unf; ExterCond TA; Alley Grvl; OverallCond 6; MSZoning RM; PavedDrive Y; Exterior2nd Wd Shng; Exterior1st WdShing; Heating GasA; FullBath 1; LandSlope Gtl; BsmtCond TA; GarageQual TA; MasVnrType None; Functional Typ; KitchenQual TA; FireplaceQu Gd; CentralAir Y; GarageFinish Unf; ExterQual TA; SaleType WD; LowQualFinSF 0; Fence #na#; BsmtQual TA; Condition1 Artery; PoolQC #na#; GarageType Detchd; BsmtHalfBath 0; BsmtFullBath 0; Utilities AllPub; GarageCond TA; RoofStyle Gable; Street Pave; SaleCondition Normal; GarageCars 2; MiscFeature #na#; MoSold 3; GrLivArea #na#; HeatingQC Gd; LandContour Lvl; Electrical FuseA; LotShape Reg; BsmtExposure No; RoofMatl CompShg; Neighborhood OldTown; BsmtFinType1 Unf; HalfBath 0; Condition2 Norm; LotConfig Inside; LotFrontage_na False; MasVnrArea_na False; GarageYrBlt_na False; MSSubClass -0.6453; LotFrontage -0.6178; LotArea -0.1591; OverallQual -0.8060; YearBuilt -1.4447; YearRemodAdd -1.6824; MasVnrArea -0.5837; BsmtFinSF1 -0.9791; BsmtFinSF2 -0.2792; BsmtUnfSF 0.9929; TotalBsmtSF -0.1117; 1stFlrSF -0.3531; 2ndFlrSF -0.8039; BedroomAbvGr -1.0809; KitchenAbvGr -0.2158; TotRmsAbvGrd -0.9578; Fireplaces 0.5955; GarageYrBlt -2.1507; GarageArea -0.5348; WoodDeckSF -0.7483; OpenPorchSF -0.7094; EnclosedPorch 1.7436; 3SsnPorch -0.1221; ScreenPorch -0.2710; PoolArea -0.0724; MiscVal -0.0894; YrSold 1.6339; ,HouseStyle 1.5Fin; Foundation CBlock; BldgType 1Fam; BsmtFinType2 Unf; ExterCond Gd; Alley #na#; OverallCond 7; MSZoning RM; PavedDrive Y; Exterior2nd CmentBd; Exterior1st CemntBd; Heating GasA; FullBath 2; LandSlope Gtl; BsmtCond TA; GarageQual TA; MasVnrType None; Functional Typ; KitchenQual TA; FireplaceQu Gd; CentralAir Y; GarageFinish Unf; ExterQual TA; SaleType WD; LowQualFinSF 0; Fence #na#; BsmtQual TA; Condition1 Feedr; PoolQC #na#; GarageType Detchd; BsmtHalfBath 0; BsmtFullBath 0; Utilities AllPub; GarageCond TA; RoofStyle Gable; Street Pave; SaleCondition Normal; GarageCars 2; MiscFeature #na#; MoSold 10; GrLivArea 1664; HeatingQC Ex; LandContour Lvl; Electrical SBrkr; LotShape Reg; BsmtExposure No; RoofMatl CompShg; Neighborhood BrkSide; BsmtFinType1 ALQ; HalfBath 0; Condition2 Norm; LotConfig Corner; LotFrontage_na False; MasVnrArea_na False; GarageYrBlt_na False; MSSubClass -0.1748; LotFrontage -0.8893; LotArea -0.5390; OverallQual -0.0781; YearBuilt -0.7881; YearRemodAdd -1.6824; MasVnrArea -0.5837; BsmtFinSF1 -0.1029; BsmtFinSF2 -0.2792; BsmtUnfSF 0.0847; TotalBsmtSF -0.1209; 1stFlrSF -0.4155; 2ndFlrSF 0.7086; BedroomAbvGr 0.1509; KitchenAbvGr -0.2158; TotRmsAbvGrd 0.2840; Fireplaces 2.1481; GarageYrBlt -1.1930; GarageArea -0.2493; WoodDeckSF -0.7483; OpenPorchSF -0.3538; EnclosedPorch 0.2242; 3SsnPorch -0.1221; ScreenPorch -0.2710; PoolArea -0.0724; MiscVal -0.0894; YrSold -1.3635; ,HouseStyle 1Story; Foundation PConc; BldgType 1Fam; BsmtFinType2 Unf; ExterCond TA; Alley #na#; OverallCond 5; MSZoning RL; PavedDrive Y; Exterior2nd VinylSd; Exterior1st VinylSd; Heating GasA; FullBath 2; LandSlope Gtl; BsmtCond TA; GarageQual TA; MasVnrType Stone; Functional Typ; KitchenQual Ex; FireplaceQu Ex; CentralAir Y; GarageFinish Fin; ExterQual Gd; SaleType WD; LowQualFinSF 0; Fence #na#; BsmtQual Ex; Condition1 Norm; PoolQC #na#; GarageType Attchd; BsmtHalfBath 0; BsmtFullBath 1; Utilities AllPub; GarageCond TA; RoofStyle Hip; Street Pave; SaleCondition Normal; GarageCars 3; MiscFeature #na#; MoSold 9; GrLivArea 1620; HeatingQC Ex; LandContour HLS; Electrical SBrkr; LotShape IR1; BsmtExposure Gd; RoofMatl CompShg; Neighborhood Timber; BsmtFinType1 GLQ; HalfBath 0; Condition2 Norm; LotConfig Inside; LotFrontage_na False; MasVnrArea_na False; GarageYrBlt_na False; MSSubClass -0.8805; LotFrontage 0.8757; LotArea 0.2186; OverallQual 2.1057; YearBuilt 1.1815; YearRemodAdd 1.1200; MasVnrArea -0.1877; BsmtFinSF1 1.2652; BsmtFinSF2 -0.2792; BsmtUnfSF 0.0689; TotalBsmtSF 1.2936; 1stFlrSF 1.1872; 2ndFlrSF -0.8039; BedroomAbvGr -1.0809; KitchenAbvGr -0.2158; TotRmsAbvGrd -0.3369; Fireplaces 0.5955; GarageYrBlt 1.2220; GarageArea 2.0918; WoodDeckSF 1.0500; OpenPorchSF -0.7094; EnclosedPorch -0.3578; 3SsnPorch -0.1221; ScreenPorch -0.2710; PoolArea -0.0724; MiscVal -0.0894; YrSold 0.8845; \n",
       "y: FloatList\n",
       "11.947949,12.691581,11.652687,11.97666,12.661914\n",
       "Path: /home/lgvaz/projects/tabular/house_prices/data;\n",
       "\n",
       "Test: LabelList (1459 items)\n",
       "x: TabularList\n",
       "HouseStyle 1Story; Foundation CBlock; BldgType 1Fam; BsmtFinType2 LwQ; ExterCond TA; Alley #na#; OverallCond 6; MSZoning RH; PavedDrive Y; Exterior2nd VinylSd; Exterior1st VinylSd; Heating GasA; FullBath 1; LandSlope Gtl; BsmtCond TA; GarageQual TA; MasVnrType None; Functional Typ; KitchenQual TA; FireplaceQu #na#; CentralAir Y; GarageFinish Unf; ExterQual TA; SaleType WD; LowQualFinSF 0; Fence MnPrv; BsmtQual TA; Condition1 Feedr; PoolQC #na#; GarageType Attchd; BsmtHalfBath 0; BsmtFullBath 0; Utilities AllPub; GarageCond TA; RoofStyle Gable; Street Pave; SaleCondition Normal; GarageCars 1; MiscFeature #na#; MoSold 6; GrLivArea #na#; HeatingQC TA; LandContour Lvl; Electrical SBrkr; LotShape Reg; BsmtExposure No; RoofMatl CompShg; Neighborhood NAmes; BsmtFinType1 Rec; HalfBath 0; Condition2 Norm; LotConfig Inside; LotFrontage_na False; MasVnrArea_na False; GarageYrBlt_na False; MSSubClass -0.8805; LotFrontage 0.4684; LotArea 0.0962; OverallQual -0.8060; YearBuilt -0.3286; YearRemodAdd -1.1509; MasVnrArea -0.5837; BsmtFinSF1 0.0486; BsmtFinSF2 0.6481; BsmtUnfSF -0.6703; TotalBsmtSF -0.4010; 1stFlrSF -0.6965; 2ndFlrSF -0.8039; BedroomAbvGr -1.0809; KitchenAbvGr -0.2158; TotRmsAbvGrd -0.9578; Fireplaces -0.9571; GarageYrBlt -0.7350; GarageArea 1.2258; WoodDeckSF 0.3559; OpenPorchSF -0.7094; EnclosedPorch -0.3578; 3SsnPorch -0.1221; ScreenPorch 1.8603; PoolArea -0.0724; MiscVal -0.0894; YrSold 1.6339; ,HouseStyle 1Story; Foundation CBlock; BldgType 1Fam; BsmtFinType2 Unf; ExterCond TA; Alley #na#; OverallCond 6; MSZoning RL; PavedDrive Y; Exterior2nd Wd Sdng; Exterior1st Wd Sdng; Heating GasA; FullBath 1; LandSlope Gtl; BsmtCond TA; GarageQual TA; MasVnrType BrkFace; Functional Typ; KitchenQual Gd; FireplaceQu #na#; CentralAir Y; GarageFinish Unf; ExterQual TA; SaleType WD; LowQualFinSF 0; Fence #na#; BsmtQual TA; Condition1 Norm; PoolQC #na#; GarageType Attchd; BsmtHalfBath 0; BsmtFullBath 0; Utilities AllPub; GarageCond TA; RoofStyle Hip; Street Pave; SaleCondition Normal; GarageCars 1; MiscFeature Gar2; MoSold 6; GrLivArea #na#; HeatingQC TA; LandContour Lvl; Electrical SBrkr; LotShape IR1; BsmtExposure No; RoofMatl CompShg; Neighborhood NAmes; BsmtFinType1 ALQ; HalfBath 1; Condition2 Norm; LotConfig Corner; LotFrontage_na False; MasVnrArea_na False; GarageYrBlt_na False; MSSubClass -0.8805; LotFrontage 0.5136; LotArea 0.3500; OverallQual -0.0781; YearBuilt -0.4270; YearRemodAdd -1.2959; MasVnrArea 0.0273; BsmtFinSF1 1.0478; BsmtFinSF2 -0.2792; BsmtUnfSF -0.3638; TotalBsmtSF 0.6254; 1stFlrSF 0.4301; 2ndFlrSF -0.8039; BedroomAbvGr 0.1509; KitchenAbvGr -0.2158; TotRmsAbvGrd -0.3369; Fireplaces -0.9571; GarageYrBlt -0.8599; GarageArea -0.7632; WoodDeckSF 2.3514; OpenPorchSF -0.1761; EnclosedPorch -0.3578; 3SsnPorch -0.1221; ScreenPorch -0.2710; PoolArea -0.0724; MiscVal 23.8553; YrSold 1.6339; ,HouseStyle 2Story; Foundation PConc; BldgType 1Fam; BsmtFinType2 Unf; ExterCond TA; Alley #na#; OverallCond 5; MSZoning RL; PavedDrive Y; Exterior2nd VinylSd; Exterior1st VinylSd; Heating GasA; FullBath 2; LandSlope Gtl; BsmtCond TA; GarageQual TA; MasVnrType None; Functional Typ; KitchenQual TA; FireplaceQu TA; CentralAir Y; GarageFinish Fin; ExterQual TA; SaleType WD; LowQualFinSF 0; Fence MnPrv; BsmtQual Gd; Condition1 Norm; PoolQC #na#; GarageType Attchd; BsmtHalfBath 0; BsmtFullBath 0; Utilities AllPub; GarageCond TA; RoofStyle Gable; Street Pave; SaleCondition Normal; GarageCars 2; MiscFeature #na#; MoSold 3; GrLivArea 1629; HeatingQC Gd; LandContour Lvl; Electrical SBrkr; LotShape IR1; BsmtExposure No; RoofMatl CompShg; Neighborhood Gilbert; BsmtFinType1 GLQ; HalfBath 1; Condition2 Norm; LotConfig Inside; LotFrontage_na False; MasVnrArea_na False; GarageYrBlt_na False; MSSubClass 0.0604; LotFrontage 0.1968; LotArea 0.3081; OverallQual -0.8060; YearBuilt 0.8532; YearRemodAdd 0.6368; MasVnrArea -0.5837; BsmtFinSF1 0.7579; BsmtFinSF2 -0.2792; BsmtUnfSF -0.9700; TotalBsmtSF -0.2954; 1stFlrSF -0.6132; 2ndFlrSF 0.8026; BedroomAbvGr 0.1509; KitchenAbvGr -0.2158; TotRmsAbvGrd -0.3369; Fireplaces 0.5955; GarageYrBlt 0.7640; GarageArea 0.0457; WoodDeckSF 0.9238; OpenPorchSF -0.2057; EnclosedPorch -0.3578; 3SsnPorch -0.1221; ScreenPorch -0.2710; PoolArea -0.0724; MiscVal -0.0894; YrSold 1.6339; ,HouseStyle 2Story; Foundation PConc; BldgType 1Fam; BsmtFinType2 Unf; ExterCond TA; Alley #na#; OverallCond 6; MSZoning RL; PavedDrive Y; Exterior2nd VinylSd; Exterior1st VinylSd; Heating GasA; FullBath 2; LandSlope Gtl; BsmtCond TA; GarageQual TA; MasVnrType BrkFace; Functional Typ; KitchenQual Gd; FireplaceQu Gd; CentralAir Y; GarageFinish Fin; ExterQual TA; SaleType WD; LowQualFinSF 0; Fence #na#; BsmtQual TA; Condition1 Norm; PoolQC #na#; GarageType Attchd; BsmtHalfBath 0; BsmtFullBath 0; Utilities AllPub; GarageCond TA; RoofStyle Gable; Street Pave; SaleCondition Normal; GarageCars 2; MiscFeature #na#; MoSold 6; GrLivArea 1604; HeatingQC Ex; LandContour Lvl; Electrical SBrkr; LotShape IR1; BsmtExposure No; RoofMatl CompShg; Neighborhood Gilbert; BsmtFinType1 GLQ; HalfBath 1; Condition2 Norm; LotConfig Inside; LotFrontage_na False; MasVnrArea_na False; GarageYrBlt_na False; MSSubClass 0.0604; LotFrontage 0.3779; LotArea -0.0615; OverallQual -0.0781; YearBuilt 0.8861; YearRemodAdd 0.6368; MasVnrArea -0.4706; BsmtFinSF1 0.3429; BsmtFinSF2 -0.2792; BsmtUnfSF -0.5486; TotalBsmtSF -0.3000; 1stFlrSF -0.6184; 2ndFlrSF 0.7499; BedroomAbvGr 0.1509; KitchenAbvGr -0.2158; TotRmsAbvGrd 0.2840; Fireplaces 0.5955; GarageYrBlt 0.8056; GarageArea -0.0114; WoodDeckSF 2.0911; OpenPorchSF -0.1761; EnclosedPorch -0.3578; 3SsnPorch -0.1221; ScreenPorch -0.2710; PoolArea -0.0724; MiscVal -0.0894; YrSold 1.6339; ,HouseStyle 1Story; Foundation PConc; BldgType TwnhsE; BsmtFinType2 Unf; ExterCond TA; Alley #na#; OverallCond 5; MSZoning RL; PavedDrive Y; Exterior2nd HdBoard; Exterior1st HdBoard; Heating GasA; FullBath 2; LandSlope Gtl; BsmtCond TA; GarageQual TA; MasVnrType None; Functional Typ; KitchenQual Gd; FireplaceQu #na#; CentralAir Y; GarageFinish RFn; ExterQual Gd; SaleType WD; LowQualFinSF 0; Fence #na#; BsmtQual Gd; Condition1 Norm; PoolQC #na#; GarageType Attchd; BsmtHalfBath 0; BsmtFullBath 0; Utilities AllPub; GarageCond TA; RoofStyle Gable; Street Pave; SaleCondition Normal; GarageCars 2; MiscFeature #na#; MoSold 1; GrLivArea #na#; HeatingQC Ex; LandContour HLS; Electrical SBrkr; LotShape IR1; BsmtExposure No; RoofMatl CompShg; Neighborhood StoneBr; BsmtFinType1 ALQ; HalfBath 0; Condition2 Norm; LotConfig Inside; LotFrontage_na False; MasVnrArea_na False; GarageYrBlt_na False; MSSubClass 1.4718; LotFrontage -1.2061; LotArea -0.5386; OverallQual 1.3778; YearBuilt 0.6891; YearRemodAdd 0.3469; MasVnrArea -0.5837; BsmtFinSF1 -0.4016; BsmtFinSF2 -0.2792; BsmtUnfSF 1.0132; TotalBsmtSF 0.5129; 1stFlrSF 0.3026; 2ndFlrSF -0.8039; BedroomAbvGr -1.0809; KitchenAbvGr -0.2158; TotRmsAbvGrd -0.9578; Fireplaces -0.9571; GarageYrBlt 0.5558; GarageArea 0.1599; WoodDeckSF -0.7483; OpenPorchSF 0.5054; EnclosedPorch -0.3578; 3SsnPorch -0.1221; ScreenPorch 2.2865; PoolArea -0.0724; MiscVal -0.0894; YrSold 1.6339; \n",
       "y: EmptyLabelList\n",
       ",,,,\n",
       "Path: /home/lgvaz/projects/tabular/house_prices/data, model=TabularModel(\n",
       "  (embeds): ModuleList(\n",
       "    (0): Embedding(9, 5)\n",
       "    (1): Embedding(7, 5)\n",
       "    (2): Embedding(6, 4)\n",
       "    (3): Embedding(7, 5)\n",
       "    (4): Embedding(6, 4)\n",
       "    (5): Embedding(3, 3)\n",
       "    (6): Embedding(10, 6)\n",
       "    (7): Embedding(6, 4)\n",
       "    (8): Embedding(4, 3)\n",
       "    (9): Embedding(17, 8)\n",
       "    (10): Embedding(16, 8)\n",
       "    (11): Embedding(7, 5)\n",
       "    (12): Embedding(5, 4)\n",
       "    (13): Embedding(4, 3)\n",
       "    (14): Embedding(5, 4)\n",
       "    (15): Embedding(6, 4)\n",
       "    (16): Embedding(5, 4)\n",
       "    (17): Embedding(8, 5)\n",
       "    (18): Embedding(5, 4)\n",
       "    (19): Embedding(6, 4)\n",
       "    (20): Embedding(3, 3)\n",
       "    (21): Embedding(4, 3)\n",
       "    (22): Embedding(5, 4)\n",
       "    (23): Embedding(10, 6)\n",
       "    (24): Embedding(22, 9)\n",
       "    (25): Embedding(5, 4)\n",
       "    (26): Embedding(5, 4)\n",
       "    (27): Embedding(10, 6)\n",
       "    (28): Embedding(4, 3)\n",
       "    (29): Embedding(7, 5)\n",
       "    (30): Embedding(4, 3)\n",
       "    (31): Embedding(5, 4)\n",
       "    (32): Embedding(3, 3)\n",
       "    (33): Embedding(6, 4)\n",
       "    (34): Embedding(7, 5)\n",
       "    (35): Embedding(3, 3)\n",
       "    (36): Embedding(7, 5)\n",
       "    (37): Embedding(6, 4)\n",
       "    (38): Embedding(5, 4)\n",
       "    (39): Embedding(13, 7)\n",
       "    (40): Embedding(794, 67)\n",
       "    (41): Embedding(6, 4)\n",
       "    (42): Embedding(5, 4)\n",
       "    (43): Embedding(5, 4)\n",
       "    (44): Embedding(5, 4)\n",
       "    (45): Embedding(5, 4)\n",
       "    (46): Embedding(9, 5)\n",
       "    (47): Embedding(26, 10)\n",
       "    (48): Embedding(7, 5)\n",
       "    (49): Embedding(4, 3)\n",
       "    (50): Embedding(9, 5)\n",
       "    (51): Embedding(6, 4)\n",
       "    (52): Embedding(3, 3)\n",
       "    (53): Embedding(3, 3)\n",
       "    (54): Embedding(3, 3)\n",
       "  )\n",
       "  (emb_drop): Dropout(p=0.0, inplace=False)\n",
       "  (bn_cont): BatchNorm1d(27, eps=1e-05, momentum=0.1, affine=True, track_running_stats=True)\n",
       "  (layers): Sequential(\n",
       "    (0): Linear(in_features=336, out_features=500, bias=True)\n",
       "    (1): ReLU(inplace=True)\n",
       "    (2): BatchNorm1d(500, eps=1e-05, momentum=0.1, affine=True, track_running_stats=True)\n",
       "    (3): Dropout(p=0.2, inplace=False)\n",
       "    (4): Linear(in_features=500, out_features=300, bias=True)\n",
       "    (5): ReLU(inplace=True)\n",
       "    (6): BatchNorm1d(300, eps=1e-05, momentum=0.1, affine=True, track_running_stats=True)\n",
       "    (7): Dropout(p=0.2, inplace=False)\n",
       "    (8): Linear(in_features=300, out_features=1, bias=True)\n",
       "  )\n",
       "), opt_func=functools.partial(<class 'torch.optim.adam.Adam'>, betas=(0.9, 0.99)), loss_func=FlattenedLoss of MSELoss(), metrics=[<function root_mean_squared_error at 0x7fba3e0055f0>], true_wd=True, bn_wd=True, wd=0.1, train_bn=True, path=PosixPath('/home/lgvaz/projects/tabular/house_prices/data'), model_dir='models', callback_fns=[functools.partial(<class 'fastai.basic_train.Recorder'>, add_time=True, silent=False)], callbacks=[], layer_groups=[Sequential(\n",
       "  (0): Embedding(9, 5)\n",
       "  (1): Embedding(7, 5)\n",
       "  (2): Embedding(6, 4)\n",
       "  (3): Embedding(7, 5)\n",
       "  (4): Embedding(6, 4)\n",
       "  (5): Embedding(3, 3)\n",
       "  (6): Embedding(10, 6)\n",
       "  (7): Embedding(6, 4)\n",
       "  (8): Embedding(4, 3)\n",
       "  (9): Embedding(17, 8)\n",
       "  (10): Embedding(16, 8)\n",
       "  (11): Embedding(7, 5)\n",
       "  (12): Embedding(5, 4)\n",
       "  (13): Embedding(4, 3)\n",
       "  (14): Embedding(5, 4)\n",
       "  (15): Embedding(6, 4)\n",
       "  (16): Embedding(5, 4)\n",
       "  (17): Embedding(8, 5)\n",
       "  (18): Embedding(5, 4)\n",
       "  (19): Embedding(6, 4)\n",
       "  (20): Embedding(3, 3)\n",
       "  (21): Embedding(4, 3)\n",
       "  (22): Embedding(5, 4)\n",
       "  (23): Embedding(10, 6)\n",
       "  (24): Embedding(22, 9)\n",
       "  (25): Embedding(5, 4)\n",
       "  (26): Embedding(5, 4)\n",
       "  (27): Embedding(10, 6)\n",
       "  (28): Embedding(4, 3)\n",
       "  (29): Embedding(7, 5)\n",
       "  (30): Embedding(4, 3)\n",
       "  (31): Embedding(5, 4)\n",
       "  (32): Embedding(3, 3)\n",
       "  (33): Embedding(6, 4)\n",
       "  (34): Embedding(7, 5)\n",
       "  (35): Embedding(3, 3)\n",
       "  (36): Embedding(7, 5)\n",
       "  (37): Embedding(6, 4)\n",
       "  (38): Embedding(5, 4)\n",
       "  (39): Embedding(13, 7)\n",
       "  (40): Embedding(794, 67)\n",
       "  (41): Embedding(6, 4)\n",
       "  (42): Embedding(5, 4)\n",
       "  (43): Embedding(5, 4)\n",
       "  (44): Embedding(5, 4)\n",
       "  (45): Embedding(5, 4)\n",
       "  (46): Embedding(9, 5)\n",
       "  (47): Embedding(26, 10)\n",
       "  (48): Embedding(7, 5)\n",
       "  (49): Embedding(4, 3)\n",
       "  (50): Embedding(9, 5)\n",
       "  (51): Embedding(6, 4)\n",
       "  (52): Embedding(3, 3)\n",
       "  (53): Embedding(3, 3)\n",
       "  (54): Embedding(3, 3)\n",
       "  (55): Dropout(p=0.0, inplace=False)\n",
       "  (56): BatchNorm1d(27, eps=1e-05, momentum=0.1, affine=True, track_running_stats=True)\n",
       "  (57): Linear(in_features=336, out_features=500, bias=True)\n",
       "  (58): ReLU(inplace=True)\n",
       "  (59): BatchNorm1d(500, eps=1e-05, momentum=0.1, affine=True, track_running_stats=True)\n",
       "  (60): Dropout(p=0.2, inplace=False)\n",
       "  (61): Linear(in_features=500, out_features=300, bias=True)\n",
       "  (62): ReLU(inplace=True)\n",
       "  (63): BatchNorm1d(300, eps=1e-05, momentum=0.1, affine=True, track_running_stats=True)\n",
       "  (64): Dropout(p=0.2, inplace=False)\n",
       "  (65): Linear(in_features=300, out_features=1, bias=True)\n",
       ")], add_time=True, silent=False)"
      ]
     },
     "execution_count": 77,
     "metadata": {},
     "output_type": "execute_result"
    }
   ],
   "source": [
    "learn.load('500-300-013')"
   ]
  },
  {
   "cell_type": "code",
   "execution_count": 94,
   "metadata": {},
   "outputs": [
    {
     "name": "stdout",
     "output_type": "stream",
     "text": [
      "/home/lgvaz/projects/tabular/house_prices/data/sub.csv\n"
     ]
    }
   ],
   "source": [
    "# Create submission\n",
    "preds, _ = learn.get_preds(ds_type=DatasetType.Test)\n",
    "sub_path = path/'sub.csv'\n",
    "print(sub_path.absolute())\n",
    "df_sub = pd.DataFrame(data=preds.exp().tolist(), columns=[dep_var])\n",
    "df_sub['Id'] = df_test['Id']\n",
    "df_sub = df_sub[['Id', dep_var]]\n",
    "df_sub.to_csv(path/'sub.csv', index=False)"
   ]
  },
  {
   "cell_type": "code",
   "execution_count": 98,
   "metadata": {},
   "outputs": [
    {
     "name": "stdout",
     "output_type": "stream",
     "text": [
      "100%|██████████████████████████████████████| 25.8k/25.8k [00:04<00:00, 5.47kB/s]\n",
      "Successfully submitted to House Prices: Advanced Regression Techniques"
     ]
    }
   ],
   "source": [
    "!~/.local/bin/kaggle competitions submit house-prices-advanced-regression-techniques -f /home/lgvaz/projects/tabular/house_prices/data/sub.csv -m \"500-300-013\""
   ]
  },
  {
   "cell_type": "code",
   "execution_count": null,
   "metadata": {},
   "outputs": [],
   "source": []
  }
 ],
 "metadata": {
  "kernelspec": {
   "display_name": "Python [conda env:fastai] *",
   "language": "python",
   "name": "conda-env-fastai-py"
  },
  "language_info": {
   "codemirror_mode": {
    "name": "ipython",
    "version": 3
   },
   "file_extension": ".py",
   "mimetype": "text/x-python",
   "name": "python",
   "nbconvert_exporter": "python",
   "pygments_lexer": "ipython3",
   "version": "3.7.4"
  }
 },
 "nbformat": 4,
 "nbformat_minor": 2
}
