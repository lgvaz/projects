{
 "cells": [
  {
   "cell_type": "markdown",
   "metadata": {},
   "source": [
    "# Steps\n",
    "Generator:\n",
    "    * Randomly cut the sentence\n",
    "    * Generate text for the rest of the sentence\n",
    "    \n",
    "Discriminator:\n",
    "    * Predict where the sentence was cut. Regression?"
   ]
  },
  {
   "cell_type": "markdown",
   "metadata": {},
   "source": [
    "* Start with a pre trained network?\n",
    "* Embedding weight tying\n",
    "* Encoder weight tying?"
   ]
  },
  {
   "cell_type": "markdown",
   "metadata": {},
   "source": [
    "Use MLM model to generate, predict like electra"
   ]
  },
  {
   "cell_type": "code",
   "execution_count": 1,
   "metadata": {},
   "outputs": [],
   "source": [
    "from fastai2.text.all import *"
   ]
  },
  {
   "cell_type": "code",
   "execution_count": 2,
   "metadata": {},
   "outputs": [],
   "source": [
    "%load_ext line_profiler"
   ]
  },
  {
   "cell_type": "code",
   "execution_count": 3,
   "metadata": {},
   "outputs": [],
   "source": [
    "def decode(dls, idxs, decoder=decode_spec_tokens):\n",
    "    vocab = dls.train_ds.numericalize.vocab\n",
    "    tokens = [[vocab[i] for i in row if vocab[i] not in [BOS, PAD]] for row in idxs]\n",
    "    sep = dls.train_ds.tokenizer[-1].sep\n",
    "    return [sep.join(decoder(o)) for o in tokens]"
   ]
  },
  {
   "cell_type": "code",
   "execution_count": 4,
   "metadata": {},
   "outputs": [],
   "source": [
    "#export\n",
    "# TODO: Currently the hidden state is considering the generated words. How to instead predict on generated but still keep hidden of only original?\n",
    "# it's important to keep the idxs that where cut\n",
    "@patch\n",
    "def generate(self:LMLearner, idxs, n_words=1, no_unk=False, temperature=1., min_p=None, no_bar=True, only_last_word=True, reset=False):\n",
    "    \"Return `idxs` and the `n_words` that come after\"\n",
    "    idxs_all = idxs\n",
    "    model = learn.model.eval()\n",
    "    if no_unk: unk_idx = self.dls.vocab.index(UNK)\n",
    "    if reset: self.model.reset()\n",
    "    for _ in (range(n_words) if no_bar else progress_bar(range(n_words), leave=False)):\n",
    "        logits = model(idxs)[0][:, -1, :]\n",
    "        probs = F.softmax(logits, dim=-1)\n",
    "        if no_unk: probs[:, unk_idx] = 0.\n",
    "        if min_p is not None:\n",
    "            if not all((res >= min_p).float().sum(-1)):\n",
    "                warn(f\"There is no item with probability >= {min_p}, try a lower value.\")\n",
    "            else: probs[res < min_p] = 0.\n",
    "        if temperature != 1.: probs.pow_(1 / temperature)\n",
    "        samples = torch.multinomial(probs, 1).to(idxs.device)\n",
    "        idxs = idxs_all = retain_type(torch.cat([idxs_all, samples], dim=-1), idxs)\n",
    "        if only_last_word: idxs = idxs[:, -1:]\n",
    "    return idxs_all"
   ]
  },
  {
   "cell_type": "code",
   "execution_count": 5,
   "metadata": {},
   "outputs": [],
   "source": [
    "class GeneratorCB(Callback):\n",
    "    def __init__(self, gen): self.gen = gen\n",
    "        \n",
    "    def begin_batch(self):\n",
    "        inp,cut,cut_pct = self._random_cut(self.xb[0])\n",
    "        with torch.no_grad(): pred = self.gen.generate(inp, n_words=inp.shape[-1]-cut)\n",
    "        self.learn.xb = (pred,)\n",
    "        self.learn.yb = (tensor(cut_pct).expand(inp.shape[0]).to(self.dls.device),)\n",
    "        \n",
    "    def _random_cut(self, idxs):\n",
    "        seq_len = idxs.shape[1]\n",
    "        cut = random.randint(int(seq_len*.3), int(seq_len*.9))\n",
    "        return idxs.new(idxs[:, :cut]), cut, cut/seq_len"
   ]
  },
  {
   "cell_type": "code",
   "execution_count": 6,
   "metadata": {},
   "outputs": [],
   "source": [
    "source = untar_data(URLs.IMDB)\n",
    "fns = get_text_files(source)"
   ]
  },
  {
   "cell_type": "code",
   "execution_count": 7,
   "metadata": {},
   "outputs": [],
   "source": [
    "tfms = [Tokenizer.from_folder(source), Numericalize()]\n",
    "splits = RandomSplitter(.1)(fns)\n",
    "# TODO: Don't need to be LMDataLoader\n",
    "dset_lm = Datasets(fns, tfms=[tfms], splits=splits, dl_type=LMDataLoader)"
   ]
  },
  {
   "cell_type": "code",
   "execution_count": 8,
   "metadata": {},
   "outputs": [],
   "source": [
    "dls_lm = dset_lm.dataloaders()"
   ]
  },
  {
   "cell_type": "code",
   "execution_count": 9,
   "metadata": {},
   "outputs": [],
   "source": [
    "gen = language_model_learner(dls_lm, AWD_LSTM)"
   ]
  },
  {
   "cell_type": "code",
   "execution_count": 11,
   "metadata": {},
   "outputs": [],
   "source": [
    "learn = text_classifier_learner(dls_lm, AWD_LSTM, n_out=1, y_range=(0,1), metrics=L1LossFlat(), loss_func=MSELossFlat(), cbs=GeneratorCB(gen))"
   ]
  },
  {
   "cell_type": "code",
   "execution_count": null,
   "metadata": {},
   "outputs": [],
   "source": [
    "moms=(0.8,0.7,0.8)"
   ]
  },
  {
   "cell_type": "code",
   "execution_count": 14,
   "metadata": {},
   "outputs": [
    {
     "data": {
      "text/html": [
       "<table border=\"1\" class=\"dataframe\">\n",
       "  <thead>\n",
       "    <tr style=\"text-align: left;\">\n",
       "      <th>epoch</th>\n",
       "      <th>train_loss</th>\n",
       "      <th>valid_loss</th>\n",
       "      <th>None</th>\n",
       "      <th>time</th>\n",
       "    </tr>\n",
       "  </thead>\n",
       "  <tbody>\n",
       "    <tr>\n",
       "      <td>0</td>\n",
       "      <td>0.130774</td>\n",
       "      <td>0.005478</td>\n",
       "      <td>0.057658</td>\n",
       "      <td>13:53</td>\n",
       "    </tr>\n",
       "  </tbody>\n",
       "</table>"
      ],
      "text/plain": [
       "<IPython.core.display.HTML object>"
      ]
     },
     "metadata": {},
     "output_type": "display_data"
    }
   ],
   "source": [
    "learn.fit_one_cycle(1, 2e-2, moms=moms)"
   ]
  },
  {
   "cell_type": "code",
   "execution_count": null,
   "metadata": {},
   "outputs": [],
   "source": [
    "learn.save('pre_freeze')"
   ]
  },
  {
   "cell_type": "code",
   "execution_count": null,
   "metadata": {},
   "outputs": [],
   "source": [
    "learn.unfreeze()\n",
    "learn.fit_one_cycle(10, 2e-3, moms=(0.8,0.7,0.8))"
   ]
  },
  {
   "cell_type": "code",
   "execution_count": null,
   "metadata": {},
   "outputs": [],
   "source": [
    "learn.save('pre_unfreeze')"
   ]
  },
  {
   "cell_type": "code",
   "execution_count": 16,
   "metadata": {},
   "outputs": [],
   "source": [
    "learn.save_encoder('enc')"
   ]
  },
  {
   "cell_type": "markdown",
   "metadata": {},
   "source": [
    "## Classifier"
   ]
  },
  {
   "cell_type": "code",
   "execution_count": 23,
   "metadata": {},
   "outputs": [],
   "source": [
    "dblock_clas = DataBlock(blocks=(TextBlock.from_folder(source, vocab=dset_lm.vocab),CategoryBlock),\n",
    "                      get_x=read_tokenized_file,\n",
    "                      get_y = parent_label,\n",
    "                      get_items=partial(get_text_files, folders=['train', 'test']),\n",
    "                      splitter=GrandparentSplitter(valid_name='test'))\n",
    "dls_clas = dblock_clas.dataloaders(source, bs=128, seq_len=80)"
   ]
  },
  {
   "cell_type": "code",
   "execution_count": null,
   "metadata": {},
   "outputs": [],
   "source": [
    "learn = text_classifier_learner(dbunch_clas, AWD_LSTM, drop_mult=0.5, metrics=accuracy).to_fp16()\n",
    "learn.load_encoder('fine_tuned_enc')"
   ]
  },
  {
   "cell_type": "code",
   "execution_count": null,
   "metadata": {},
   "outputs": [],
   "source": [
    "learn.lr_find()"
   ]
  },
  {
   "cell_type": "code",
   "execution_count": null,
   "metadata": {},
   "outputs": [],
   "source": [
    "def get_lrs(lr): return slice(lr/(2.6**4),lr)"
   ]
  },
  {
   "cell_type": "code",
   "execution_count": null,
   "metadata": {},
   "outputs": [],
   "source": [
    "learn.fit_one_cycle(1, 2e-2, moms=moms)"
   ]
  },
  {
   "cell_type": "code",
   "execution_count": null,
   "metadata": {},
   "outputs": [],
   "source": [
    "learn.freeze_to(-2)\n",
    "learn.fit_one_cycle(1, get_lrs(1e-2), moms=moms)"
   ]
  },
  {
   "cell_type": "code",
   "execution_count": null,
   "metadata": {},
   "outputs": [],
   "source": [
    "learn.freeze_to(-3)\n",
    "learn.fit_one_cycle(1, get_lrs(5e-3), moms=moms)"
   ]
  },
  {
   "cell_type": "code",
   "execution_count": null,
   "metadata": {},
   "outputs": [],
   "source": [
    "learn.unfreeze()\n",
    "learn.fit_one_cycle(2, get_lrs(1e-3), moms=moms)"
   ]
  }
 ],
 "metadata": {
  "kernelspec": {
   "display_name": "Python 3",
   "language": "python",
   "name": "python3"
  },
  "language_info": {
   "codemirror_mode": {
    "name": "ipython",
    "version": 3
   },
   "file_extension": ".py",
   "mimetype": "text/x-python",
   "name": "python",
   "nbconvert_exporter": "python",
   "pygments_lexer": "ipython3",
   "version": "3.7.7"
  },
  "toc": {
   "base_numbering": 1,
   "nav_menu": {},
   "number_sections": true,
   "sideBar": true,
   "skip_h1_title": false,
   "title_cell": "Table of Contents",
   "title_sidebar": "Contents",
   "toc_cell": false,
   "toc_position": {},
   "toc_section_display": true,
   "toc_window_display": false
  }
 },
 "nbformat": 4,
 "nbformat_minor": 4
}
