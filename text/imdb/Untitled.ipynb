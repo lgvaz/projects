{
 "cells": [
  {
   "cell_type": "code",
   "execution_count": 1,
   "metadata": {},
   "outputs": [],
   "source": [
    "%load_ext autoreload\n",
    "%autoreload 2\n",
    "%matplotlib inline"
   ]
  },
  {
   "cell_type": "code",
   "execution_count": 2,
   "metadata": {},
   "outputs": [],
   "source": [
    "from fastai import *\n",
    "from fastai.text import *"
   ]
  },
  {
   "cell_type": "code",
   "execution_count": 3,
   "metadata": {},
   "outputs": [
    {
     "data": {
      "text/plain": [
       "[PosixPath('/home/lgvaz/.fastai/data/imdb/test'),\n",
       " PosixPath('/home/lgvaz/.fastai/data/imdb/tmp_clas'),\n",
       " PosixPath('/home/lgvaz/.fastai/data/imdb/imdb.vocab'),\n",
       " PosixPath('/home/lgvaz/.fastai/data/imdb/README'),\n",
       " PosixPath('/home/lgvaz/.fastai/data/imdb/train'),\n",
       " PosixPath('/home/lgvaz/.fastai/data/imdb/tmp_lm'),\n",
       " PosixPath('/home/lgvaz/.fastai/data/imdb/unsup')]"
      ]
     },
     "execution_count": 3,
     "metadata": {},
     "output_type": "execute_result"
    }
   ],
   "source": [
    "path = untar_data(URLs.IMDB)\n",
    "path.ls()"
   ]
  },
  {
   "cell_type": "code",
   "execution_count": 4,
   "metadata": {},
   "outputs": [],
   "source": [
    "bs = 48"
   ]
  },
  {
   "cell_type": "code",
   "execution_count": 7,
   "metadata": {},
   "outputs": [],
   "source": [
    "data_lm = (TextList.from_folder(path)\n",
    "           .filter_by_folder(include=['train', 'test'])\n",
    "           .split_by_rand_pct(0.1)\n",
    "           .label_for_lm().databunch(bs=bs))\n",
    "data_lm.save('tmp_lm.pkl')"
   ]
  },
  {
   "cell_type": "code",
   "execution_count": 26,
   "metadata": {},
   "outputs": [
    {
     "data": {
      "text/plain": [
       "64"
      ]
     },
     "execution_count": 26,
     "metadata": {},
     "output_type": "execute_result"
    }
   ],
   "source": [
    "data_lm.bs"
   ]
  },
  {
   "cell_type": "code",
   "execution_count": 23,
   "metadata": {},
   "outputs": [],
   "source": [
    "data_lm = load_data(path, 'tmp_lm.pkl')"
   ]
  },
  {
   "cell_type": "code",
   "execution_count": 24,
   "metadata": {},
   "outputs": [
    {
     "data": {
      "text/html": [
       "<table border=\"1\" class=\"dataframe\">\n",
       "  <thead>\n",
       "    <tr style=\"text-align: right;\">\n",
       "      <th>idx</th>\n",
       "      <th>text</th>\n",
       "    </tr>\n",
       "  </thead>\n",
       "  <tbody>\n",
       "    <tr>\n",
       "      <td>0</td>\n",
       "      <td>xxmaj richard xxmaj benjamin supplied the sarcastic voice of reason that he does so well . xxmaj along the way there were many actors whom we all recognize , doing their usual brilliance . xxmaj there are a couple of lines in the movie which my xxup so and i have used throughout the years , but i wo n't say anything about them here . xxmaj i'm pretty sure</td>\n",
       "    </tr>\n",
       "    <tr>\n",
       "      <td>1</td>\n",
       "      <td>, and yes , his use of drugs and other issues . i would of liked to know so much more about his \" xxmaj xxunk \" project . i wanted to get inside his mind . xxmaj even if they did this via some \" voice of god \" commentary and photos it would of been xxup ok . \\n \\n  xxmaj the animations were good , but</td>\n",
       "    </tr>\n",
       "    <tr>\n",
       "      <td>2</td>\n",
       "      <td>kids with cars in high school always have something to do , and buds to do it with . xxmaj matt 's low - key attitude makes a good foil for xxmaj layne - their friendship is believable . xxmaj glover 's mannerisms are a little much , but he is consistent throughout . xxmaj he drives the plot and exudes a sense of urgency that no one else does</td>\n",
       "    </tr>\n",
       "    <tr>\n",
       "      <td>3</td>\n",
       "      <td>the one &amp; only xxmaj al xxmaj xxunk &amp; quite frankly i 'm offended at the pathetic 1.5 rating xxmaj brain of xxmaj blood has on the imdb , personally i think it 's terrific fun in a so bad it 's good sort of way . xxmaj the highly entertaining script by xxmaj kane xxup w. xxmaj lynn &amp; xxmaj joe xxmaj van xxmaj rodgers is as loopy &amp;</td>\n",
       "    </tr>\n",
       "    <tr>\n",
       "      <td>4</td>\n",
       "      <td>\\n \\n  xxmaj sincerely yours , \\n \\n  xxmaj alexandra xxbos xxmaj whenever xxmaj hayao xxmaj miyazaki does the \" tri - xxunk , \" ( writes , directs , and animates a movie ) he makes a classic film for the ages . xxmaj he has done it again with xxmaj gake no ue no xxmaj ponyo . \\n \\n  xxmaj the story is about a</td>\n",
       "    </tr>\n",
       "  </tbody>\n",
       "</table>"
      ],
      "text/plain": [
       "<IPython.core.display.HTML object>"
      ]
     },
     "metadata": {},
     "output_type": "display_data"
    }
   ],
   "source": [
    "data_lm.show_batch()"
   ]
  },
  {
   "cell_type": "code",
   "execution_count": 29,
   "metadata": {},
   "outputs": [],
   "source": [
    "learn = language_model_learner(data_lm, arch=AWD_LSTM, drop_mult=0.3)"
   ]
  },
  {
   "cell_type": "code",
   "execution_count": 31,
   "metadata": {},
   "outputs": [],
   "source": [
    "learn.lr_find()"
   ]
  },
  {
   "cell_type": "code",
   "execution_count": 33,
   "metadata": {},
   "outputs": [
    {
     "data": {
      "image/png": "[encoded data removed]",
      "text/plain": [
       "<Figure size 432x288 with 1 Axes>"
      ]
     },
     "metadata": {
      "needs_background": "light"
     },
     "output_type": "display_data"
    }
   ],
   "source": [
    "learn.recorder.plot(skip_end=16)"
   ]
  },
  {
   "cell_type": "code",
   "execution_count": 34,
   "metadata": {},
   "outputs": [
    {
     "data": {
      "text/html": [
       "<table border=\"1\" class=\"dataframe\">\n",
       "  <thead>\n",
       "    <tr style=\"text-align: left;\">\n",
       "      <th>epoch</th>\n",
       "      <th>train_loss</th>\n",
       "      <th>valid_loss</th>\n",
       "      <th>accuracy</th>\n",
       "      <th>time</th>\n",
       "    </tr>\n",
       "  </thead>\n",
       "  <tbody>\n",
       "    <tr>\n",
       "      <td>0</td>\n",
       "      <td>4.199406</td>\n",
       "      <td>4.026011</td>\n",
       "      <td>0.292361</td>\n",
       "      <td>15:42</td>\n",
       "    </tr>\n",
       "  </tbody>\n",
       "</table>"
      ],
      "text/plain": [
       "<IPython.core.display.HTML object>"
      ]
     },
     "metadata": {},
     "output_type": "display_data"
    }
   ],
   "source": [
    "lr = 2e-2\n",
    "learn.fit_one_cycle(1, lr, moms=(0.8, 0.7))"
   ]
  },
  {
   "cell_type": "code",
   "execution_count": 35,
   "metadata": {},
   "outputs": [],
   "source": [
    "learn.save('stage-1')"
   ]
  },
  {
   "cell_type": "code",
   "execution_count": 36,
   "metadata": {
    "collapsed": true
   },
   "outputs": [
    {
     "data": {
      "text/plain": [
       "LanguageLearner(data=TextLMDataBunch;\n",
       "\n",
       "Train: LabelList (45000 items)\n",
       "x: LMTextList\n",
       "xxbos when i know that xxmaj walter will never grace another set . i was in my 30 's when i first saw this sweet , endearing and unabashedly romantic film . i loved it from the first scene , and all the way through to the end . xxmaj art xxmaj carney was his usual daft self ; xxmaj glenda matched xxmaj walter step for step in the xxunk xxmaj richard xxmaj benjamin supplied the sarcastic voice of reason that he does so well . xxmaj along the way there were many actors whom we all recognize , doing their usual brilliance . xxmaj there are a couple of lines in the movie which my xxup so and i have used throughout the years , but i wo n't say anything about them here . xxmaj i'm pretty sure you will know which two i am talking about . xxmaj just get this movie . xxmaj make some popcorn , grab your xxunk he is as sappy as mine is , for which i am xxunk enjoy this standout romantic comedy from the 70 's . xxmaj you will not be disappointed . xxmaj however , i have the feeling that i am preaching to the choir here because anyone who loves xxmaj walter will already own it . xxmaj i'm very glad it 's out on xxup dvd now , finally .,xxbos xxmaj in the 1980s in wrestling the world was simple . xxmaj hulk xxmaj hogan would take on xxmaj roddy xxmaj piper , or xxmaj bobby xxmaj heenan 's cronies or xxmaj ted dibiase and come out victorious more often than not . xxmaj occasionally he would get an ally like xxmaj randy xxmaj savage in 1988 , but mostly it was all about xxmaj hulk xxmaj hogan vs xxmaj bobby xxmaj heenan , and that 's the way it should be . \n",
       " \n",
       "  xxmaj but on this night that was about to change , a new champion , a man who the xxup wwe thought would be their man for the 90s was crowned . xxmaj it did n't work out . xxmaj but the xxup wwe was right about one thing : xxmaj hulkamania was finished and a new order needed to be established . \n",
       " \n",
       "  xxmaj this historic xxmaj wrestlemania , the first to be held outside xxmaj america , kicked off with xxmaj rick xxmaj martel defeating xxmaj koko b xxmaj ware . xxmaj koko never really had a lot of luck at xxmaj wrestlemania and was taken down in short order here . \n",
       " \n",
       "  xxmaj next up the xxmaj colossal xxmaj connection xxmaj andre the xxmaj giant and xxmaj haku put their tag team titles on the line against xxmaj demolition xxmaj ax and xxmaj smash and lost . xxmaj new tag team champions crowned . \n",
       " \n",
       "  xxmaj next match saw xxmaj earthquake defeat xxmaj hercules . xxmaj hercules was another fellow who did n't really have a lot of luck at xxmaj wrestlemania . xxmaj plenty of luck for xxmaj brutus xxmaj beefcake as he ended xxmaj mr xxmaj perfect 's undefeated streak . xxmaj well , i guess someone had to end it . \n",
       " \n",
       "  xxmaj roddy xxmaj piper and xxmaj bad xxmaj news xxmaj brown fought to a double count out in a slow but fun match , next up the xxmaj hart xxmaj foundation defeated xxmaj nikolai xxmaj xxunk and xxmaj boris xxmaj zhukov in 19 seconds . xxmaj not really a match , unfortunately . xxmaj the xxmaj barbarian then defeated xxmaj tito xxmaj santana in a short match . \n",
       " \n",
       "  xxmaj the xxmaj american xxmaj dream xxmaj dusty xxmaj rhodes and xxmaj xxunk then defeated the xxmaj macho xxmaj king xxmaj randy xxmaj savage and xxmaj queen xxmaj sherri in a messy mixed tag match . xxmaj this was the only female wrestling really going on in the xxup wwe at this point of time . \n",
       " \n",
       "  xxmaj next up was a fun match as the xxmaj rockers xxmaj marty xxmaj janetty and xxmaj shawn xxmaj micheals defeated xxmaj the xxmaj orient xxmaj express in a fast paced encounter . xxmaj there were a lot of good tag teams at this point in time . xxmaj jim xxmaj duggan then beat xxmaj dino xxmaj bravo in a nothing match . \n",
       " \n",
       "  xxmaj next xxmaj ted dibiase put his most cherished possession , the xxmaj million xxmaj dollar xxmaj championship on the line against xxmaj jake xxmaj roberts . xxmaj roberts was distracted by xxmaj virgil and counted out allowing xxmaj ted to retain his title in an entertaining match and one of the longer matches on the show . \n",
       " \n",
       "  xxmaj next up the xxmaj twin xxmaj towers collide as the xxmaj big xxmaj bossman defeats xxmaj akeem in short order , this is followed by xxmaj rick xxmaj rude winning a short match with xxmaj jimmy xxmaj snuka . \n",
       " \n",
       "  xxmaj finally we come to the main event with xxmaj hulk xxmaj hogan putting the xxup wwe xxmaj title on the line against xxmaj intercontinental xxmaj champion xxmaj the xxmaj ultimate xxmaj warrior . xxmaj this is an entertaining back and forth match won by the xxmaj warrior after xxmaj hogan missed a leg drop . xxmaj the crowd was extraordinary and the match was a great spectacle . \n",
       " \n",
       "  xxmaj and so the torch was passed , but would the xxmaj ultimate xxmaj warrior prove to be the xxmaj champion the xxup wwe hoped he would be ?,xxbos there 's only so much that i can take of xxmaj filipino films , especially nowadays where the trend is sex , action and slapstick xxunk i hate ) . the fact that xxmaj nasaan xxmaj ka xxmaj man made me think and made me gape during the movie was a big plus . xxmaj it 's got good cinematic scenes and editing was great , especially the cinematography . i think that xxmaj claudine deserves the best actress here rather than getting one in the movie xxmaj milan . the fact that there 's only so few xxmaj filipino movies that i really like . i think xxmaj xxunk xxmaj laurel did such a great job in this movie . i truly truly loved this movie , technically and character development wise ; the plot was complex and that 's what made it terrific .,xxbos i ca n't understand why imdb users would rate this movie 5.2 / 10 ? xxmaj it really is great , very funny . i would strongly recommend this movie for all of you , adults , teenagers and especially children ! \n",
       " \n",
       "  xxmaj the story is about a 14-year - old kid who always tell lie , at home and school . xxmaj one day he had his homework of writing a xxunk - story . xxmaj but he did n't , so the teacher told him to write it and gave her in 3 hours , or he would have to go to xxmaj summer xxmaj school . xxmaj yep , he wrote it in xxunk . \" xxmaj big fat liar \" , i think it was a story of himself . xxmaj on the way to the school he hit a limo of a famous xxmaj hollywood producer , and he gave him a ride . xxmaj but the kid forgot the story in the limo . xxmaj he told his parents and the teacher , but of course , they did not believe him . xxmaj and the movie producer , he took the kid 's story as his new movie , \" xxmaj big fat liar \" . xxmaj when the kid saw the trailer of the movie , he told his parents he had written it , but they did n't believe . xxmaj so , he and his friend had to go to xxup l.a to prove one thing : xxmaj the truth is never overrated \n",
       " \n",
       "  xxmaj enjoy this great movie , you wo n't be disappointed . xxmaj do n't trust the 5.2 / 10 rate , it should be 9 / 10 ! xxmaj believe me ! \n",
       " \n",
       "  p / s : so sorry , my xxmaj english is n't good enough to make a better comment !,xxbos i 'd heard about this movie , but did n't see it until my daughter , who saw it on a flight to xxmaj australia , told me it was a great movie . i was interested in seeing whether xxmaj rupert xxmaj grint , away from xxmaj harry xxmaj potter , was showing the promise you see in the xxmaj potter movies . i was n't disappointed . xxmaj he 's become a fine actor , showing a range in xxmaj driving xxmaj lessons from a shy boy being beaten down by an over - bearing obsessive mother , to a young man finding himself to be worthy of his own , and other 's , esteem . xxmaj going over lines from plays and poetry with his aging - actress employer , it 's obvious that he 's ready to take on much more complex roles in films and the stage . xxmaj but the jewel of this movie was xxmaj julie xxmaj walters . i 'd seen her previously in the xxmaj potter movies , xxmaj billy xxmaj elliott and xxmaj calendar xxmaj girls , and loved her . xxmaj in xxmaj driving xxmaj lessons , as she does lines from poetry and xxmaj shakespeare , i was awed by her timing , command of the language , and body language . i 'm hoping it was make - up / costuming , as she portrays an older woman with xxunk , though no mention of it is made in the movie-- as a nurse , i can say that she did this perfectly , portraying a woman on the brink of old - age , but clinging to the sparkling past that she reveled in . xxmaj this is one of the best movies i 've seen in a long time , and i wish i 'd seen it in a theatre xxunk but i doubt it ever played anywhere here in xxmaj albuquerque . xxmaj we miss out on so many of these types of movies here .\n",
       "y: LMLabelList\n",
       ",,,,\n",
       "Path: /home/lgvaz/.fastai/data/imdb;\n",
       "\n",
       "Valid: LabelList (5000 items)\n",
       "x: LMTextList\n",
       "xxbos xxmaj this was a excellent back when it came out . xxmaj it had some the best talent available and a funny story . xxmaj between xxmaj candace xxmaj cameron and xxmaj tatyana xxmaj ali , it was hard to choose who is cuter , and add in xxmaj carlton from xxmaj fresh xxmaj prince and all the other big names , and you get a blockbuster . xxmaj ok , a made for xxup tv blockbuster , but none the less . xxmaj if you can find this move , do n't miss it . \n",
       " \n",
       " ,xxbos xxmaj there are other movies about boarding schools and the antics of the students and staff , but \" xxmaj the xxmaj belles of xxmaj st. xxmaj trinian 's \" towers above them all ! xxmaj the plot has been thoroughly summarized by other posters , so i wo n't cover the same ground . i just want to say that it 's a shame that it 's xxup finally out on xxup dvd , but in a format that ca n't be used in the xxup u.s. ! :-( \n",
       " \n",
       "  xxmaj enjoy , fellow fans in xxmaj new xxmaj zealand and xxmaj australia ! xxmaj and if anyone reading this has any pull in such matters , xxup please help get it released on xxup dvd with xxmaj region 1 xxunk ! xxmaj also , is it possible to be notified via e - mail when ( i wo n't say \" if \" ) it is released on xxup dvd in the xxmaj united xxmaj states ? xxmaj thanks !,xxbos i was n't expecting much of this film- a fun little diversion . xxmaj wuthering xxmaj heights could be turned into a plausible modern story- nice and soapy , melodramatic and intriguing . xxmaj but this film decided to throw away the talents of the people involved in a simpering version so watered down from the source material that it 's amazing they had the guts to call it xxmaj wuthering xxmaj heights at all . xxmaj it ignores the fact that it is a story of people who are in essence unlikeable , mostly unsympathetic , and frequently cruel to one another . xxmaj it changes the very nature of certain characters- xxmaj isabelle , for instance , in the novel , had not a conniving bone in her xxunk they 've stripped her blind idealism and turned her into a scheming whore . xxmaj heathcliff is an awful person who psychologically tortures most people in his path , but in this version xxmaj catherine ends up leaving her daughter in his care . xxmaj the dialog is trite and one wonders how the actors managed to deliver any of it with straight faces . xxmaj in place of depth or actual emotions , we know they mean something when they scream it in someone 's face . i 've read criticism of the early 90 's version , \" xxmaj emily xxmaj bronte 's xxmaj wuthering xxmaj heights \" which featured xxmaj ralph xxmaj fiennes and xxmaj juliette xxmaj binoche , saying that it turned an intensely dark , xxmaj gothic story into a sudsy bodice - ripper . xxmaj slightly valid comments , but the xxup mtv version goes a step further , using the basic story structure to deliver chipper beach bums cavorting to really bad music .,xxbos xxmaj this feeble attempt at veering your typically bland xxmaj japanese horror movie more towards a creepy cult hit did not have the ammunition needed to keep the viewer involved throughout . xxmaj translated to vortex , xxmaj uzumaki is about just that- an irrational and xxunk tribute to the strange downward spiral into nothingness that has seemingly captivated a whole small town into dementia obsessed lunatics . xxmaj while this certainly makes for a pleasurable b - movie on the surface , the traditionally tiresome acting , direction , and script will have all but xxmaj asian horror buffs shaking their heads in dismay . xxmaj what could have roughly translated into xxmaj japanese equivalent of an early xxmaj david xxmaj lynch piece , instead wares out it 's spiraled gimmickry before it even has a chance to explain xxunk which of course it does not . xxmaj aside from a few clever techniques employed , the movie rarely connects the dizzying thematics with the dull script , ultimately coming across as a cheap exploitation into the cult genre , substituting hollow imagery for genuine substance . xxmaj when the movie had ended there was hardly anything that was gained from any of the interactions , save a tiny few scenes or images that rose above the one note film . i do applaud the makers for at least trying to take the genre into more supernatural , metaphysical realms and understand the rough losses lost - in - translation , but with zero substance to back any of it 's xxunk up this will likely be relegated to obscure fanboy 's bong - ridden basements .,xxbos xxmaj if i was xxmaj british , i would be embarrassed by this portrayal of incompetence . a protection agent of the xxmaj special xxmaj branch unable to defend herself against a sick , unarmed and untrained assailant ? xxmaj the xxmaj home xxmaj office sends a single \" xxmaj science xxmaj adviser \" to investigate a possible xxmaj level xxmaj four biohazard , and that \" xxmaj advisor \" does n't have the sense to wear even a mask and gloves ? xxmaj totally unprotected xxmaj london police officers working side by side with technicians in full biohazard suits ? xxmaj the \" xxmaj advisor \" and his bodyguard xxunk the lair of a sociopathic doctor experimenting on human subjects without any backup ? xxmaj puh - leeze ! xxmaj one wonders whether the producers could not afford to hire any technical advisers or if , for some arcane reason , they consciously decided to portray the principals as hopelessly incompetent . xxmaj even my wife , who has no background in either medicine or law enforcement , was rolling her eyes in disbelief . xxmaj after the first episode , i was discouraged ; now that i have seen two episodes , i give up .\n",
       "y: LMLabelList\n",
       ",,,,\n",
       "Path: /home/lgvaz/.fastai/data/imdb;\n",
       "\n",
       "Test: None, model=SequentialRNN(\n",
       "  (0): AWD_LSTM(\n",
       "    (encoder): Embedding(49832, 400, padding_idx=1)\n",
       "    (encoder_dp): EmbeddingDropout(\n",
       "      (emb): Embedding(49832, 400, padding_idx=1)\n",
       "    )\n",
       "    (rnns): ModuleList(\n",
       "      (0): WeightDropout(\n",
       "        (module): LSTM(400, 1152, batch_first=True)\n",
       "      )\n",
       "      (1): WeightDropout(\n",
       "        (module): LSTM(1152, 1152, batch_first=True)\n",
       "      )\n",
       "      (2): WeightDropout(\n",
       "        (module): LSTM(1152, 400, batch_first=True)\n",
       "      )\n",
       "    )\n",
       "    (input_dp): RNNDropout()\n",
       "    (hidden_dps): ModuleList(\n",
       "      (0): RNNDropout()\n",
       "      (1): RNNDropout()\n",
       "      (2): RNNDropout()\n",
       "    )\n",
       "  )\n",
       "  (1): LinearDecoder(\n",
       "    (decoder): Linear(in_features=400, out_features=49832, bias=True)\n",
       "    (output_dp): RNNDropout()\n",
       "  )\n",
       "), opt_func=functools.partial(<class 'torch.optim.adam.Adam'>, betas=(0.9, 0.99)), loss_func=FlattenedLoss of CrossEntropyLoss(), metrics=[<function accuracy at 0x7f2cd1db4830>], true_wd=True, bn_wd=True, wd=0.01, train_bn=True, path=PosixPath('/home/lgvaz/.fastai/data/imdb'), model_dir='models', callback_fns=[functools.partial(<class 'fastai.basic_train.Recorder'>, add_time=True, silent=False)], callbacks=[RNNTrainer\n",
       "learn: ...\n",
       "alpha: 2.0\n",
       "beta: 1.0], layer_groups=[Sequential(\n",
       "  (0): WeightDropout(\n",
       "    (module): LSTM(400, 1152, batch_first=True)\n",
       "  )\n",
       "  (1): RNNDropout()\n",
       "), Sequential(\n",
       "  (0): WeightDropout(\n",
       "    (module): LSTM(1152, 1152, batch_first=True)\n",
       "  )\n",
       "  (1): RNNDropout()\n",
       "), Sequential(\n",
       "  (0): WeightDropout(\n",
       "    (module): LSTM(1152, 400, batch_first=True)\n",
       "  )\n",
       "  (1): RNNDropout()\n",
       "), Sequential(\n",
       "  (0): Embedding(49832, 400, padding_idx=1)\n",
       "  (1): EmbeddingDropout(\n",
       "    (emb): Embedding(49832, 400, padding_idx=1)\n",
       "  )\n",
       "  (2): LinearDecoder(\n",
       "    (decoder): Linear(in_features=400, out_features=49832, bias=True)\n",
       "    (output_dp): RNNDropout()\n",
       "  )\n",
       ")], add_time=True, silent=False)"
      ]
     },
     "execution_count": 36,
     "metadata": {},
     "output_type": "execute_result"
    }
   ],
   "source": [
    "learn.load('stage-1')"
   ]
  },
  {
   "cell_type": "code",
   "execution_count": 42,
   "metadata": {},
   "outputs": [
    {
     "data": {
      "text/plain": [
       "'I loved the \" jodie Foster Era \" . If you watched this film in recognise WWII times a horrible , dreary movie could save it from being canceled'"
      ]
     },
     "execution_count": 42,
     "metadata": {},
     "output_type": "execute_result"
    }
   ],
   "source": [
    "learn.predict('I loved the', 30, temperature=1.1)"
   ]
  }
 ],
 "metadata": {
  "kernelspec": {
   "display_name": "Python 3",
   "language": "python",
   "name": "python3"
  },
  "language_info": {
   "codemirror_mode": {
    "name": "ipython",
    "version": 3
   },
   "file_extension": ".py",
   "mimetype": "text/x-python",
   "name": "python",
   "nbconvert_exporter": "python",
   "pygments_lexer": "ipython3",
   "version": "3.7.4"
  }
 },
 "nbformat": 4,
 "nbformat_minor": 2
}
